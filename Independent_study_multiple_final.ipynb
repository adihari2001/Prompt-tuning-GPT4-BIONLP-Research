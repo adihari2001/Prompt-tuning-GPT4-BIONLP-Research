{
  "cells": [
    {
      "cell_type": "code",
      "execution_count": null,
      "metadata": {
        "colab": {
          "base_uri": "https://localhost:8080/"
        },
        "id": "cTTl7oIR9i4Q",
        "outputId": "0b822d54-2448-4073-84cd-c6ccd72ce9d5"
      },
      "outputs": [
        {
          "name": "stdout",
          "output_type": "stream",
          "text": [
            "Requirement already satisfied: pip in /usr/local/lib/python3.10/dist-packages (23.1.2)\n",
            "Collecting pip\n",
            "  Downloading pip-23.3.1-py3-none-any.whl (2.1 MB)\n",
            "\u001b[2K     \u001b[90m━━━━━━━━━━━━━━━━━━━━━━━━━━━━━━━━━━━━━━━━\u001b[0m \u001b[32m2.1/2.1 MB\u001b[0m \u001b[31m11.6 MB/s\u001b[0m eta \u001b[36m0:00:00\u001b[0m\n",
            "\u001b[?25hInstalling collected packages: pip\n",
            "  Attempting uninstall: pip\n",
            "    Found existing installation: pip 23.1.2\n",
            "    Uninstalling pip-23.1.2:\n",
            "      Successfully uninstalled pip-23.1.2\n",
            "Successfully installed pip-23.3.1\n",
            "Collecting openai==0.28\n",
            "  Downloading openai-0.28.0-py3-none-any.whl.metadata (13 kB)\n",
            "Requirement already satisfied: requests>=2.20 in /usr/local/lib/python3.10/dist-packages (from openai==0.28) (2.31.0)\n",
            "Requirement already satisfied: tqdm in /usr/local/lib/python3.10/dist-packages (from openai==0.28) (4.66.1)\n",
            "Requirement already satisfied: aiohttp in /usr/local/lib/python3.10/dist-packages (from openai==0.28) (3.9.1)\n",
            "Requirement already satisfied: charset-normalizer<4,>=2 in /usr/local/lib/python3.10/dist-packages (from requests>=2.20->openai==0.28) (3.3.2)\n",
            "Requirement already satisfied: idna<4,>=2.5 in /usr/local/lib/python3.10/dist-packages (from requests>=2.20->openai==0.28) (3.6)\n",
            "Requirement already satisfied: urllib3<3,>=1.21.1 in /usr/local/lib/python3.10/dist-packages (from requests>=2.20->openai==0.28) (2.0.7)\n",
            "Requirement already satisfied: certifi>=2017.4.17 in /usr/local/lib/python3.10/dist-packages (from requests>=2.20->openai==0.28) (2023.11.17)\n",
            "Requirement already satisfied: attrs>=17.3.0 in /usr/local/lib/python3.10/dist-packages (from aiohttp->openai==0.28) (23.1.0)\n",
            "Requirement already satisfied: multidict<7.0,>=4.5 in /usr/local/lib/python3.10/dist-packages (from aiohttp->openai==0.28) (6.0.4)\n",
            "Requirement already satisfied: yarl<2.0,>=1.0 in /usr/local/lib/python3.10/dist-packages (from aiohttp->openai==0.28) (1.9.3)\n",
            "Requirement already satisfied: frozenlist>=1.1.1 in /usr/local/lib/python3.10/dist-packages (from aiohttp->openai==0.28) (1.4.0)\n",
            "Requirement already satisfied: aiosignal>=1.1.2 in /usr/local/lib/python3.10/dist-packages (from aiohttp->openai==0.28) (1.3.1)\n",
            "Requirement already satisfied: async-timeout<5.0,>=4.0 in /usr/local/lib/python3.10/dist-packages (from aiohttp->openai==0.28) (4.0.3)\n",
            "Downloading openai-0.28.0-py3-none-any.whl (76 kB)\n",
            "\u001b[2K   \u001b[90m━━━━━━━━━━━━━━━━━━━━━━━━━━━━━━━━━━━━━━━━\u001b[0m \u001b[32m76.5/76.5 kB\u001b[0m \u001b[31m2.6 MB/s\u001b[0m eta \u001b[36m0:00:00\u001b[0m\n",
            "\u001b[?25hInstalling collected packages: openai\n",
            "\u001b[31mERROR: pip's dependency resolver does not currently take into account all the packages that are installed. This behaviour is the source of the following dependency conflicts.\n",
            "llmx 0.0.15a0 requires cohere, which is not installed.\n",
            "llmx 0.0.15a0 requires tiktoken, which is not installed.\u001b[0m\u001b[31m\n",
            "\u001b[0mSuccessfully installed openai-0.28.0\n",
            "\u001b[33mWARNING: Running pip as the 'root' user can result in broken permissions and conflicting behaviour with the system package manager. It is recommended to use a virtual environment instead: https://pip.pypa.io/warnings/venv\u001b[0m\u001b[33m\n",
            "\u001b[0m"
          ]
        }
      ],
      "source": [
        "!pip install --upgrade pip\n",
        "!pip install openai==0.28"
      ]
    },
    {
      "cell_type": "code",
      "execution_count": null,
      "metadata": {
        "colab": {
          "base_uri": "https://localhost:8080/"
        },
        "id": "kezd-BpAEmkL",
        "outputId": "50552388-0b90-4c34-eba8-47a722b6ad83"
      },
      "outputs": [
        {
          "name": "stdout",
          "output_type": "stream",
          "text": [
            "Mounted at /content/drive\n"
          ]
        }
      ],
      "source": [
        "\n",
        "from google.colab import drive\n",
        "\n",
        "# Mount Google Drive\n",
        "drive.mount('/content/drive')"
      ]
    },
    {
      "cell_type": "code",
      "execution_count": null,
      "metadata": {
        "id": "UuV1tq9a9le_"
      },
      "outputs": [],
      "source": [
        "\n",
        "import openai\n",
        "openai.api_key = \"\"\n"
      ]
    },
    {
      "cell_type": "code",
      "execution_count": null,
      "metadata": {
        "id": "38y1qbhV9oVl"
      },
      "outputs": [],
      "source": [
        "def prompt1(original_question):\n",
        "  instruction = \"\"\"\n",
        "  You are a medical expert who is preparing questions for the USMLE-step 2-CK exam.\n",
        "  \"\"\"\n",
        "\n",
        "  prompt0 = \"Why is the given option the correct answer and why are the other options wrong?\"\n",
        "  input_titles = original_question + \"\\n\" + prompt0\n",
        "  response = openai.ChatCompletion.create(\n",
        "      model=\"gpt-4\",\n",
        "      messages=[\n",
        "          {\"role\": \"system\", \"content\": instruction},\n",
        "          {\"role\": \"user\", \"content\": input_titles},\n",
        "      ],\n",
        "      temperature=0\n",
        "  )\n",
        "\n",
        "  print(response[\"choices\"][0][\"message\"][\"content\"])\n",
        "  print(type(response[\"choices\"][0][\"message\"][\"content\"]))\n",
        "  return response[\"choices\"][0][\"message\"][\"content\"]"
      ]
    },
    {
      "cell_type": "code",
      "execution_count": null,
      "metadata": {
        "id": "7yE1iuKL9qva"
      },
      "outputs": [],
      "source": [
        "def prompt2(original_question_tot):\n",
        "  instruction = \"\"\"\n",
        "  You are a medical expert who is preparing questions for the USMLE-step 2-CK exam.\n",
        "  \"\"\"\n",
        "  new_prompt = \"Use the above set of questions and generate a new question for USMLE Step 2 CK with answer and explanation using a similar format and a similar difficulty level. For the multiple choice options, use the generated question context as distractors\"\n",
        "  result_string = \"\\n\".join(original_question_tot)\n",
        "  input_titles1 = result_string + \"\\n\" + new_prompt\n",
        "  response1 = openai.ChatCompletion.create(\n",
        "      model=\"gpt-4\",\n",
        "      messages=[\n",
        "          {\"role\": \"system\", \"content\": instruction},\n",
        "          {\"role\": \"user\", \"content\": input_titles1},\n",
        "      ],\n",
        "      temperature=0\n",
        "  )\n",
        "\n",
        "  print(response1[\"choices\"][0][\"message\"][\"content\"])\n",
        "  return response1[\"choices\"][0][\"message\"][\"content\"]"
      ]
    },
    {
      "cell_type": "code",
      "execution_count": null,
      "metadata": {
        "colab": {
          "base_uri": "https://localhost:8080/"
        },
        "id": "Hq-FqQt9Rmg9",
        "outputId": "8653e90f-3a46-4ae7-e253-20c3f2891dda"
      },
      "outputs": [
        {
          "name": "stdout",
          "output_type": "stream",
          "text": [
            "Contents of 1.json:\n",
            "The correct answer is Dexamethasone. This patient's symptoms of confusion, difficulties walking, and decreased responsiveness, along with the history of rapid ascent to high altitude, are indicative of high-altitude cerebral edema (HACE), a life-threatening complication of acute mountain sickness (AMS). Dexamethasone is a rescue medication for HACE that can significantly improve the patient's condition. However, it does not replace the need for immediate descent to a lower altitude, which is the definitive treatment. \n",
            "\n",
            "The other options are incorrect for the following reasons:\n",
            "\n",
            "- Nifedipine is used in the prevention and treatment of high altitude pulmonary edema (HAPE), a complication of AMS. This patient shows no signs and symptoms of HAPE, such as cough, shortness of breath, cyanosis, tachypnea, tachycardia, and crackles or wheezing on pulmonary auscultation.\n",
            "\n",
            "- Haloperidol is used in the treatment of acute psychosis. While some of this patient's symptoms are also seen in acute psychosis (confusion, decreased responsiveness, slurred speech), loss of bladder control, headaches, dizziness, nausea, and ataxia are not expected. Moreover, typical symptoms of acute psychosis, such as hallucinations and delusions, are not present. \n",
            "\n",
            "- Mannitol is used in the treatment of cerebral edema. While this drug can be used to lower intracranial pressure in severe cases of HACE, it is not the initial treatment of choice.\n",
            "\n",
            "- Acetazolamide accelerates acclimatization to high altitude via multiple mechanisms and is used in the prevention and treatment of AMS. However, it is not effective in the treatment of HACE.\n",
            "<class 'str'>\n",
            "Contents of 169.json:\n",
            "The correct answer is to continue unfractionated heparin. This patient's laboratory studies show a decrease in platelet count of less than 30% within the first 5 days of initiating heparin therapy, which is suggestive of nonimmune heparin-associated thrombocytopenia, also known as type 1 heparin-induced thrombocytopenia (HIT). This condition is common, occurring in approximately 10-30% of patients treated with heparin, and is self-limiting. It poses a negligible risk for thrombosis. Therefore, the patient should continue heparin therapy to maintain an aPTT 1.5–2.5 times normal until he begins a suitable longer-term anticoagulant to fully treat his DVT.\n",
            "\n",
            "Option A, switching to enoxaparin, is incorrect because enoxaparin is primarily eliminated via the kidneys and is contraindicated if the estimated GFR is < 30 mL/min. This patient's estimated GFR is 28 mL/min/1.73 m2, making him not a candidate for enoxaparin therapy.\n",
            "\n",
            "Option C, switching to warfarin, is incorrect because abruptly stopping heparin and switching to warfarin can lead to a transient hypercoagulable state. Heparin should be administered continuously along with warfarin until a therapeutic international normalized ratio (INR) is attained.\n",
            "\n",
            "Option D, discontinuing anticoagulation, is incorrect because the patient's newly diagnosed DVT requires treatment. Most guidelines stipulate 3 months of anticoagulation for first-time DVT.\n",
            "\n",
            "Option E, switching to argatroban, is incorrect because this would be indicated if the patient developed type 2 HIT. However, this patient's platelets have only dropped by 25%, making type 2 HIT unlikely. Furthermore, the onset of HIT is typically 5–14 days after heparin therapy has begun, and this patient has only been receiving treatment for the past 2 days.\n",
            "<class 'str'>\n",
            "Contents of 143.json:\n",
            "The correct answer is \"MelliFly should not be prescribed because the advertisement does not feature this patient's clinical syndrome\". This is because the patient has heart failure with preserved ejection fraction (EF), as indicated by his EF of 55%. The advertisement for MelliFly states that it is intended for patients with heart failure with reduced EF (EF < 40%). Therefore, this medication would not be appropriate for this patient's specific condition.\n",
            "\n",
            "Option A is incorrect because the patient's current medications (hydrochlorothiazide, spironolactone, and metformin) are not mentioned in the safety warnings box of the advertisement, indicating that there are no known interactions with MelliFly.\n",
            "\n",
            "Option B is incorrect because while a simple dosing regimen could be beneficial for this patient, who has difficulty remembering his medication regimen, the appropriateness of the medication for his specific condition should be considered first.\n",
            "\n",
            "Option D is incorrect because the side effects of MelliFly (hypoglycemia, urinary tract infections) would not outweigh the benefits of the drug for this patient. However, the drug's appropriateness for his specific condition should be considered first.\n",
            "\n",
            "Option E is incorrect because while MelliFly has been shown to effectively lower the risk of hospitalization for heart failure, it is intended for patients with reduced EF, not preserved EF like this patient. Therefore, its effectiveness in this patient's case is not relevant.\n",
            "<class 'str'>\n",
            "List: ['{\"question\": \"A 27-year-old man is brought to a mountain base camp at 4000 m (13,100 ft) above sea level because he has had a 2-hour history of confusion, difficulties walking, and decreased responsiveness. He has been participating in a 5-day hiking trip in which the group has ascended 1500 m (4900 ft) from the base camp in 2 days. This morning, the third day of the trip, the patient was found in his tent unable to respond to simple questions and having wet himself. The night before, he reported headaches, dizziness, and nausea. He appears lethargic. Temperature is 37.5\\\\u00b0C (99.5\\\\u00b0F), pulse is 85/min, respirations are 20/min, and blood pressure is 135/85 mm Hg. Pulse oximetry on room air shows an oxygen saturation of 89%. Neurological examination shows slurred speech and an ataxic gait. Kernig sign is absent. Further diagnostic studies cannot be performed due to limited medical equipment. The most appropriate initial step in management is the administration of which of the following?\", \"hint\": \"Headaches, dizziness, and nausea while at an altitude over 2500 m (8000 ft) above sea level suggests acute mountain sickness (AMS). Altered consciousness, ataxia, and urinary incontinence are consistent with high-altitude cerebral edema (HACE), a life-threatening complication of AMS.\", \"options\": [{\"option\": \"A\\\\nNifedipine\", \"percent\": \"2%\", \"answer\": \"Nifedipine is used in the prevention and treatment of high altitude pulmonary edema (HAPE), a complication of AMS. While the severe hypoxemia in HAPE may lead to concomitant HACE, this patient shows no signs and symptoms of HAPE, such as cough, shortness of breath, cyanosis, tachypnea, tachycardia, and crackles or wheezing on pulmonary auscultation.\", \"image\": null}, {\"option\": \"B\\\\nHaloperidol\", \"percent\": \"0%\", \"answer\": \"Haloperidol is used in the treatment of acute psychosis. While some of this patient\\'s symptoms are also seen in acute psychosis (confusion, decreased responsiveness, slurred speech), loss of bladder control, headaches, dizziness, nausea, and ataxia are not expected. Moreover, typical symptoms of acute psychosis, such as hallucinations and delusions, are not present. Finally, this patient has no reported history of mental illness that could lead to acute psychosis (e.g., schizophrenia, bipolar disorder).\", \"image\": null}, {\"option\": \"C\\\\nMannitol\", \"percent\": \"14%\", \"answer\": \"Mannitol is used in the treatment of cerebral edema. While this drug can be used to lower intracranial pressure in severe cases of HACE, it is not the initial treatment of choice.\", \"image\": null}, {\"option\": \"D\\\\nAcetazolamide\", \"percent\": \"68%\", \"answer\": \"Acetazolamide accelerates acclimatization to high altitude via multiple mechanisms (e.g., increased renal excretion of bicarbonate, increased ventilation and oxygenation) and is, therefore, used in the prevention and treatment of AMS. Acetazolamide is not, however, effective in the treatment of HACE.\", \"image\": null}, {\"option\": \"E\\\\nDexamethasone\", \"percent\": \"15%\", \"answer\": \"Dexamethasone is a rescue medication for HACE that may significantly improve the patient\\'s condition, and it should be administered as soon as this complication is suspected. However, dexamethasone does not replace the need for immediate descent to a lower altitude, which is the definitive treatment. Oxygen supplementation and portable hyperbaric therapy are further lifesaving measures if immediate evacuation is not possible. The most effective preventive measure for AMS and HACE is a slow ascent.\\\\nEnvironmental pathology\", \"image\": null}], \"correct_answer\": \"E\\\\nDexamethasone\\\\n15%\\\\nDexamethasone is a rescue medication for HACE that may significantly improve the patient\\'s condition, and it should be administered as soon as this complication is suspected. However, dexamethasone does not replace the need for immediate descent to a lower altitude, which is the definitive treatment. Oxygen supplementation and portable hyperbaric therapy are further lifesaving measures if immediate evacuation is not possible. The most effective preventive measure for AMS and HACE is a slow ascent.\\\\nEnvironmental pathology\\\\nGIVE FEEDBACK\", \"tag\": \"emergency-medicine-adult-and-pediatric,pulmonary-and-critical-care-medicine,neurology\"}', \"The correct answer is Dexamethasone. This patient's symptoms of confusion, difficulties walking, and decreased responsiveness, along with the history of rapid ascent to high altitude, are indicative of high-altitude cerebral edema (HACE), a life-threatening complication of acute mountain sickness (AMS). Dexamethasone is a rescue medication for HACE that can significantly improve the patient's condition. However, it does not replace the need for immediate descent to a lower altitude, which is the definitive treatment. \\n\\nThe other options are incorrect for the following reasons:\\n\\n- Nifedipine is used in the prevention and treatment of high altitude pulmonary edema (HAPE), a complication of AMS. This patient shows no signs and symptoms of HAPE, such as cough, shortness of breath, cyanosis, tachypnea, tachycardia, and crackles or wheezing on pulmonary auscultation.\\n\\n- Haloperidol is used in the treatment of acute psychosis. While some of this patient's symptoms are also seen in acute psychosis (confusion, decreased responsiveness, slurred speech), loss of bladder control, headaches, dizziness, nausea, and ataxia are not expected. Moreover, typical symptoms of acute psychosis, such as hallucinations and delusions, are not present. \\n\\n- Mannitol is used in the treatment of cerebral edema. While this drug can be used to lower intracranial pressure in severe cases of HACE, it is not the initial treatment of choice.\\n\\n- Acetazolamide accelerates acclimatization to high altitude via multiple mechanisms and is used in the prevention and treatment of AMS. However, it is not effective in the treatment of HACE.\", '{\"question\": \"A 56-year-old man comes to the emergency department because of a 1-day history of progressive swelling and pain in his left calf. He does not have shortness of breath or chest pain. He has hypertension and chronic kidney disease. Current medications include enalapril, aspirin, simvastatin, and vitamin D. His temperature is 38\\\\u00b0C (100.4\\\\u00b0F), pulse is 84/min, and blood pressure is 135/92 mm Hg. Physical examination shows tenderness and swelling of the left lower extremity. A venous Doppler ultrasonography shows a thrombus in the left popliteal vein. Treatment with unfractionated heparin is begun. Two days later, physical examination shows improvement of symptoms. Laboratory studies at admission and 2 days after admission show:\\\\nAdmission Two days after admission\\\\nHemoglobin 11.2 g/dL 11.1 g/dL\\\\nLeukocyte count 5500/mm3 6100/mm3\\\\nPlatelet count 230,000/mm3 170,000/mm3\\\\nSerum\\\\nProthrombin time 12 seconds 13 seconds\\\\nPartial thromboplastin time 30 seconds 55 seconds\\\\nEstimated glomerular filtration rate 29 mL/min/1.73 m2 28 mL/min/1.73 m2\\\\nWhich of the following is the most appropriate next step in management?\", \"hint\": \"This patient was diagnosed with deep vein thrombosis (DVT) and subsequently started on unfractionated heparin (UFH). Laboratory studies showing a < 30% decrease in platelet count in the first 5 days after initiation of treatment with UFH is highly suggestive of nonimmune heparin-associated thrombocytopenia, formerly known as type 1 heparin-induced thrombocytopenia (HIT).\", \"options\": [{\"option\": \"A\\\\nSwitch to enoxaparin\", \"percent\": \"22%\", \"answer\": \"Switching to enoxaparin would be a reasonable option to complete this patient\\'s DVT treatment regimen in an outpatient setting. However, because enoxaparin is primarily eliminated via the kidneys, it is contraindicated if the estimated GFR is < 30 mL/min. Impaired kidney function can predispose to supratherapeutic anticoagulation and bleeding. Therefore, this patient, who has an estimated GFR of 28 mL/min/1.73 m2, is not a candidate for enoxaparin therapy.\", \"image\": null}, {\"option\": \"B\\\\nContinue unfractionated heparin\", \"percent\": \"24%\", \"answer\": \"This patient should continue heparin therapy to maintain an aPTT 1.5\\\\u20132.5 times normal until he begins a suitable longer-term anticoagulant to fully treat his DVT. When heparin is initiated, a baseline platelet count needs to be established in order to monitor for HIT. Nonimmune heparin-associated thrombocytopenia, which manifests with a transient, mild reduction in platelet count as a result of the direct induction of platelet aggregation by heparin, is a common condition that occurs in approx. 10\\\\u201330% of patients treated with heparin; it poses negligible risk for thrombosis, and is self-limiting.\\\\n\\\\nSee \\\\u201cNonimmune heparin-associated thrombocytopenia vs. heparin-induced thrombocytopenia\\\\u201d table.\\\\nHeparin-induced thrombocytopenia\", \"image\": null}, {\"option\": \"C\\\\nSwitch to warfarin\", \"percent\": \"15%\", \"answer\": \"Switching to warfarin as a means of providing longer-term anticoagulation for the treatment of the patient\\'s DVT would be reasonable. However, abruptly stopping heparin and switching to warfarin is dangerous because of the transient hypercoagulable state that follows the initiation of therapy with warfarin. In order to prevent new clot formation during this time, heparin is administered continuously along with warfarin until a therapeutic international normalized ratio (INR) is attained.\", \"image\": null}, {\"option\": \"D\\\\nDiscontinue anticoagulation\", \"percent\": \"5%\", \"answer\": \"Discontinuing all anticoagulation would be inappropriate for this patient, as his newly diagnosed DVT requires treatment. Most guidelines stipulate 3 months of anticoagulation for first-time DVT, but some patients may require even longer treatment.\", \"image\": null}, {\"option\": \"E\\\\nSwitch to argatroban\", \"percent\": \"34%\", \"answer\": \"Switching to argatroban would be indicated if this patient developed type 2 HIT. This patient\\'s drop in platelets should raise suspicion for type 2 HIT. However, his platelets have only dropped by 25%, making type 2 HIT unlikely, as it usually manifests with > 50% reduction in platelet count. In addition, the onset of HIT is typically 5\\\\u201314 days after heparin therapy has begun. Because he has only been receiving treatment for the past 2 days, type 2 HIT is even less likely; switching to argatroban would not be appropriate.\", \"image\": null}], \"correct_answer\": \"B\\\\nContinue unfractionated heparin\\\\n24%\\\\nThis patient should continue heparin therapy to maintain an aPTT 1.5\\\\u20132.5 times normal until he begins a suitable longer-term anticoagulant to fully treat his DVT. When heparin is initiated, a baseline platelet count needs to be established in order to monitor for HIT. Nonimmune heparin-associated thrombocytopenia, which manifests with a transient, mild reduction in platelet count as a result of the direct induction of platelet aggregation by heparin, is a common condition that occurs in approx. 10\\\\u201330% of patients treated with heparin; it poses negligible risk for thrombosis, and is self-limiting.\\\\n\\\\nSee \\\\u201cNonimmune heparin-associated thrombocytopenia vs. heparin-induced thrombocytopenia\\\\u201d table.\\\\nHeparin-induced thrombocytopenia\\\\nGIVE FEEDBACK\", \"tag\": \"hematology,emergency-medicine-adult-and-pediatric,nephrology-and-hypertension,lab-interpretation\"}', \"The correct answer is to continue unfractionated heparin. This patient's laboratory studies show a decrease in platelet count of less than 30% within the first 5 days of initiating heparin therapy, which is suggestive of nonimmune heparin-associated thrombocytopenia, also known as type 1 heparin-induced thrombocytopenia (HIT). This condition is common, occurring in approximately 10-30% of patients treated with heparin, and is self-limiting. It poses a negligible risk for thrombosis. Therefore, the patient should continue heparin therapy to maintain an aPTT 1.5–2.5 times normal until he begins a suitable longer-term anticoagulant to fully treat his DVT.\\n\\nOption A, switching to enoxaparin, is incorrect because enoxaparin is primarily eliminated via the kidneys and is contraindicated if the estimated GFR is < 30 mL/min. This patient's estimated GFR is 28 mL/min/1.73 m2, making him not a candidate for enoxaparin therapy.\\n\\nOption C, switching to warfarin, is incorrect because abruptly stopping heparin and switching to warfarin can lead to a transient hypercoagulable state. Heparin should be administered continuously along with warfarin until a therapeutic international normalized ratio (INR) is attained.\\n\\nOption D, discontinuing anticoagulation, is incorrect because the patient's newly diagnosed DVT requires treatment. Most guidelines stipulate 3 months of anticoagulation for first-time DVT.\\n\\nOption E, switching to argatroban, is incorrect because this would be indicated if the patient developed type 2 HIT. However, this patient's platelets have only dropped by 25%, making type 2 HIT unlikely. Furthermore, the onset of HIT is typically 5–14 days after heparin therapy has begun, and this patient has only been receiving treatment for the past 2 days.\", '{\"question\": \"A 72-year-old man with congestive heart failure comes to the office because of a 1-year history of shortness of breath and fatigue. He says that he has to take breaks from his usual daily activities like cooking or cleaning to catch his breath. Six months ago, he was hospitalized for acute decompensation of heart failure and his medication was adjusted. He says that he has had difficulties remembering his medication regimen. He has a history of hypertension and type 2 diabetes mellitus. Medications include hydrochlorothiazide, spironolactone, and metformin. He is 165 cm (5 ft 5 in) tall and weighs 84 kg (185 lb); BMI is 31 kg/m2. Pulse is 89/min, respirations are 20/min, and blood pressure is 135/83 mm Hg. Physical examination shows 2+ pitting pretibial edema bilaterally. Auscultation of the lungs discloses bibasilar mild crackles. Transthoracic echocardiography shows increased sizes of the left atrium and ventricle, diastolic dysfunction, and a left ventricular ejection fraction of approximately 0.55. The physician has recently read a pharmaceutical advertisement for a new drug for heart failure called MelliFly and considers prescribing this medication to the patient. Based on the pharmaceutical advertisement shown, which of the following statements about MelliFly is most appropriate with regard to this patient?\", \"hint\": \"This patient has heart failure with marked limitations of physical activity (i.e., NYHA class III). When prescribing a medication to a patient, the physician should follow a systematic approach and first consider the patient\\'s individual problem.\", \"options\": [{\"option\": \"A\\\\nMelliFly should not be prescribed because of potential drug interactions with this patient\\'s other medications\", \"percent\": \"7%\", \"answer\": \"Safety concerns (e.g., potential interactions) should be taken into account when prescribing a drug. Pharmaceutical advertisements typically feature a safety warnings box that includes information about potential drug interactions and important risks, which should be weighed against the potential benefits of the drug. This patient takes a thiazide diuretic, an aldosterone receptor antagonist, and the biguanide metformin, none of which is mentioned in the safety warnings box of the advertisement.\", \"image\": \"143.jpg\"}, {\"option\": \"B\\\\nMelliFly should be prescribed to this patient because of its simple dosing regimen\", \"percent\": \"7%\", \"answer\": \"The simplicity of a treatment regimen should be taken into account when prescribing a drug. This patient has difficulties remembering his regimen and may benefit from a once-daily medication. However, another aspect of the drug has to be evaluated before considering the dosing regimen.\", \"image\": \"143.jpg\"}, {\"option\": \"C\\\\nMelliFly should not be prescribed because the advertisement does not feature this patient\\'s clinical syndrome\", \"percent\": \"48%\", \"answer\": \"This patient has a history of congestive heart failure and an ejection fraction (EF) of 55%, which indicates that he has heart failure with preserved EF. The advertisement states that the medicine is targeted at patients with heart failure with reduced EF (i.e., with an EF of < 40%). The medication does not address this patient\\'s specific condition, so it would not be appropriate to prescribe it.\\\\n\\\\nAfter a clear definition of a patient\\'s problem (e.g., \\\\u201ccongestive heart failure with preserved EF, NYHA III\\\\u201d), the goal of prescribing a drug should be determined (e.g., \\\\u201cimprovement of dyspnea and fatigue\\\\u201d). This step is followed by a systematic evaluation of all treatment options, including nonpharmacological options. The options can be compared with regard to their safety (e.g., interactions, contraindications), tolerability (e.g., side effect profile), effectiveness (e.g., maximum expected effect on symptoms), price (e.g., monthly costs), and simplicity (e.g., frequency of dosing regimen). Some of this information can be found in pharmaceutical advertisements (e.g., in the safety warnings box), whereas other information does not need to be included (e.g., price). The patient should be provided with information on the chosen treatment, instructions on the use, and potential safety warnings. Finally, the treatment and its effect should be reevaluated on a regular basis.\\\\nQuality improvement\", \"image\": \"143.jpg\"}, {\"option\": \"D\\\\nMelliFly should not be prescribed because its side effect profile is unfavorable for this patient\", \"percent\": \"8%\", \"answer\": \"Tolerability (e.g., side effects) should be taken into account when prescribing a drug. Pharmaceutical advertisements typically mention the most important side effects, which should be considered in relation to the patient\\'s medical history and preferences. Poor tolerability may outweigh the benefits of a drug. In this patient, the benefits of treatment with the new drug (overall improved outcome of heart failure) would outweigh the risks and relative frequencies of side effects (e.g., hypoglycemia, urinary tract infections). Furthermore, another aspect of the drug has to be evaluated before considering its tolerability.\", \"image\": \"143.jpg\"}, {\"option\": \"E\\\\nMelliFly should be prescribed because it effectively lowers this patient\\'s risk of hospitalization\", \"percent\": \"30%\", \"answer\": \"Effectiveness should be taken into account when prescribing a drug to a patient. The risk of hospitalization for heart failure is effectively lowered by the drug in the advertisement and the results of the study are statistically significant (HR = 0.63, p < 0.001). However, another aspect of the drug has to be evaluated before considering its effectiveness for this patient.\", \"image\": \"143.jpg\"}], \"correct_answer\": \"C\\\\nMelliFly should not be prescribed because the advertisement does not feature this patient\\'s clinical syndrome\\\\n48%\\\\nThis patient has a history of congestive heart failure and an ejection fraction (EF) of 55%, which indicates that he has heart failure with preserved EF. The advertisement states that the medicine is targeted at patients with heart failure with reduced EF (i.e., with an EF of < 40%). The medication does not address this patient\\'s specific condition, so it would not be appropriate to prescribe it.\\\\n\\\\nAfter a clear definition of a patient\\'s problem (e.g., \\\\u201ccongestive heart failure with preserved EF, NYHA III\\\\u201d), the goal of prescribing a drug should be determined (e.g., \\\\u201cimprovement of dyspnea and fatigue\\\\u201d). This step is followed by a systematic evaluation of all treatment options, including nonpharmacological options. The options can be compared with regard to their safety (e.g., interactions, contraindications), tolerability (e.g., side effect profile), effectiveness (e.g., maximum expected effect on symptoms), price (e.g., monthly costs), and simplicity (e.g., frequency of dosing regimen). Some of this information can be found in pharmaceutical advertisements (e.g., in the safety warnings box), whereas other information does not need to be included (e.g., price). The patient should be provided with information on the chosen treatment, instructions on the use, and potential safety warnings. Finally, the treatment and its effect should be reevaluated on a regular basis.\\\\nQuality improvement\\\\nGIVE FEEDBACK\", \"tag\": \"cardiovascular-medicine, primary-care-adult, geriatrics\"}', 'The correct answer is \"MelliFly should not be prescribed because the advertisement does not feature this patient\\'s clinical syndrome\". This is because the patient has heart failure with preserved ejection fraction (EF), as indicated by his EF of 55%. The advertisement for MelliFly states that it is intended for patients with heart failure with reduced EF (EF < 40%). Therefore, this medication would not be appropriate for this patient\\'s specific condition.\\n\\nOption A is incorrect because the patient\\'s current medications (hydrochlorothiazide, spironolactone, and metformin) are not mentioned in the safety warnings box of the advertisement, indicating that there are no known interactions with MelliFly.\\n\\nOption B is incorrect because while a simple dosing regimen could be beneficial for this patient, who has difficulty remembering his medication regimen, the appropriateness of the medication for his specific condition should be considered first.\\n\\nOption D is incorrect because the side effects of MelliFly (hypoglycemia, urinary tract infections) would not outweigh the benefits of the drug for this patient. However, the drug\\'s appropriateness for his specific condition should be considered first.\\n\\nOption E is incorrect because while MelliFly has been shown to effectively lower the risk of hospitalization for heart failure, it is intended for patients with reduced EF, not preserved EF like this patient. Therefore, its effectiveness in this patient\\'s case is not relevant.']\n",
            "{\"question\": \"A 65-year-old woman with a history of hypertension and type 2 diabetes mellitus comes to the office for a routine follow-up. She reports increasing fatigue and shortness of breath over the past 6 months. She has difficulty climbing stairs and has to rest halfway. She denies chest pain, palpitations, or syncope. Her medications include lisinopril, metformin, and aspirin. She is 160 cm (5 ft 3 in) tall and weighs 70 kg (154 lb); BMI is 27 kg/m2. Pulse is 78/min, respirations are 18/min, and blood pressure is 130/80 mm Hg. Physical examination shows 1+ pitting pretibial edema bilaterally. Auscultation of the lungs discloses bibasilar mild crackles. Transthoracic echocardiography shows increased sizes of the left atrium and ventricle, diastolic dysfunction, and a left ventricular ejection fraction of approximately 0.60. The physician considers prescribing a new drug for heart failure called CardiBoost. Based on the pharmaceutical advertisement shown, which of the following statements about CardiBoost is most appropriate with regard to this patient?\", \"hint\": \"This patient has heart failure with preserved ejection fraction (EF). When prescribing a medication to a patient, the physician should consider the patient's individual problem and the specific indications of the drug.\", \"options\": [{\"option\": \"A\\nCardiBoost should not be prescribed because of potential drug interactions with this patient's other medications\", \"percent\": \"10%\", \"answer\": \"Safety concerns (e.g., potential interactions) should be taken into account when prescribing a drug. Pharmaceutical advertisements typically feature a safety warnings box that includes information about potential drug interactions and important risks, which should be weighed against the potential benefits of the drug. This patient takes an ACE inhibitor, a biguanide, and aspirin, none of which is mentioned in the safety warnings box of the advertisement.\", \"image\": \"143.jpg\"}, {\"option\": \"B\\nCardiBoost should be prescribed to this patient because of its simple dosing regimen\", \"percent\": \"10%\", \"answer\": \"The simplicity of a treatment regimen should be taken into account when prescribing a drug. However, another aspect of the drug has to be evaluated before considering the dosing regimen.\", \"image\": \"143.jpg\"}, {\"option\": \"C\\nCardiBoost should not be prescribed because the advertisement does not feature this patient's clinical syndrome\", \"percent\": \"50%\", \"answer\": \"This patient has a history of congestive heart failure and an ejection fraction (EF) of 60%, which indicates that she has heart failure with preserved EF. The advertisement states that the medicine is targeted at patients with heart failure with reduced EF (i.e., with an EF of < 40%). The medication does not address this patient's specific condition, so it would not be appropriate to prescribe it.\", \"image\": \"143.jpg\"}, {\"option\": \"D\\nCardiBoost should not be prescribed because its side effect profile is unfavorable for this patient\", \"percent\": \"10%\", \"answer\": \"Tolerability (e.g., side effects) should be taken into account when prescribing a drug. Pharmaceutical advertisements typically mention the most important side effects, which should be considered in relation to the patient's medical history and preferences. Poor tolerability may outweigh the benefits of a drug. However, another aspect of the drug has to be evaluated before considering its tolerability.\", \"image\": \"143.jpg\"}, {\"option\": \"E\\nCardiBoost should be prescribed because it effectively lowers this patient's risk of hospitalization\", \"percent\": \"20%\", \"answer\": \"Effectiveness should be taken into account when prescribing a drug to a patient. However, the drug's appropriateness for her specific condition should be considered first.\", \"image\": \"143.jpg\"}], \"correct_answer\": \"C\\nCardiBoost should not be prescribed because the advertisement does not feature this patient's clinical syndrome\\n50%\\nThis patient has a history of congestive heart failure and an ejection fraction (EF) of 60%, which indicates that she has heart failure with preserved EF. The advertisement states that the medicine is targeted at patients with heart failure with reduced EF (i.e., with an EF of < 40%). The medication does not address this patient's specific condition, so it would not be appropriate to prescribe it.\", \"tag\": \"cardiovascular-medicine, primary-care-adult, geriatrics\"}\n",
            "Output string has been stored in '/content/drive/My Drive/results/d1-ans-multi/output_1.txt'\n",
            "\n",
            "\n"
          ]
        }
      ],
      "source": [
        "import os\n",
        "import json\n",
        "\n",
        "folder_path = '/content/drive/MyDrive/amboss_tag/d5'  # Replace with your folder path in Google Drive\n",
        "starting_file = '1.json'\n",
        "file_list = os.listdir(folder_path)\n",
        "\n",
        "# Sort the file list to ensure consistent order\n",
        "#file_list.sort()\n",
        "\n",
        "# Function to read JSON files in a folder\n",
        "def read_json_files(folder_path):\n",
        "    json_contents = {}\n",
        "    if starting_file in file_list:\n",
        "    # Find the index of the starting file\n",
        "      start_index = file_list.index(starting_file)\n",
        "\n",
        "    # Process files from the starting file onward\n",
        "      for file_name in file_list[start_index:]:\n",
        "        file_path = os.path.join(folder_path, file_name)\n",
        "        with open(file_path, 'r') as file:\n",
        "                json_contents[file_name] = json.load(file)\n",
        "    return json_contents\n",
        "\n",
        "# Accessing JSON files in the specified folder\n",
        "json_data = read_json_files(folder_path)\n",
        "\n",
        "t = 0\n",
        "data_tot = []\n",
        "original_question_tot = []\n",
        "# Print contents of each JSON file\n",
        "for file_name, data in json_data.items():\n",
        "    print(f\"Contents of {file_name}:\")\n",
        "    #print(data)\n",
        "    original_question = json.dumps(data)\n",
        "    original_question_tot.append(original_question)\n",
        "    data1 = prompt1(original_question)\n",
        "    original_question_tot.append(data1)\n",
        "    #fin_question = prompt2(original_question_tot,data_tot)\n",
        "    # folder_path = '/content/drive/My Drive/results/d5-ans'  # Replace with your folder path in Google Drive\n",
        "    # os.makedirs(folder_path, exist_ok=True)\n",
        "    # file_name = f\"output_{file_name}.txt\"  # File name\n",
        "    # # Join folder path and file name\n",
        "    # file_path = os.path.join(folder_path, file_name)\n",
        "    # # Store the string into a text file\n",
        "    # with open(file_path, 'w') as file:\n",
        "    #   file.write(fin_question)\n",
        "\n",
        "    # print(f\"Output string has been stored in '{file_path}'\")\n",
        "    # print(\"\\n\")\n",
        "    t = t+1\n",
        "    if t>=3:\n",
        "      break\n",
        "print(\"List:\",original_question_tot)\n",
        "fin_question = prompt2(original_question_tot)\n",
        "folder_path = '/content/drive/My Drive/results/d1-ans-multi'  # Replace with your folder path in Google Drive\n",
        "os.makedirs(folder_path, exist_ok=True)\n",
        "file_name = f\"output_1.txt\"  # File name\n",
        "# Join folder path and file name\n",
        "file_path = os.path.join(folder_path, file_name)\n",
        "# Store the string into a text file\n",
        "with open(file_path, 'w') as file:\n",
        "  file.write(fin_question)\n",
        "\n",
        "print(f\"Output string has been stored in '{file_path}'\")\n",
        "print(\"\\n\")"
      ]
    },
    {
      "cell_type": "code",
      "execution_count": null,
      "metadata": {
        "id": "H1dZ5rhgFPF-"
      },
      "outputs": [],
      "source": []
    }
  ],
  "metadata": {
    "colab": {
      "provenance": []
    },
    "kernelspec": {
      "display_name": "Python 3",
      "name": "python3"
    },
    "language_info": {
      "name": "python"
    }
  },
  "nbformat": 4,
  "nbformat_minor": 0
}
